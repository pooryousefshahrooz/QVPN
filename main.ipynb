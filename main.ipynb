{
 "cells": [
  {
   "cell_type": "code",
   "execution_count": null,
   "id": "7577c70a",
   "metadata": {},
   "outputs": [],
   "source": [
    "from __future__ import print_function\n",
    "\n",
    "import numpy as np\n",
    "import random\n",
    "import multiprocessing as mp\n",
    "from absl import app\n",
    "from absl import flags\n",
    "import ast\n",
    "from network import Network\n",
    "from config import get_config\n",
    "from solver import Solver\n",
    "from purification import Purification\n",
    "import time\n",
    "import os\n",
    "FLAGS = flags.FLAGS"
   ]
  },
  {
   "cell_type": "code",
   "execution_count": null,
   "id": "c46d41e2",
   "metadata": {},
   "outputs": [],
   "source": [
    "def main(_):\n",
    "    config = get_config(FLAGS) or FLAGS\n",
    "    for num_paths in range(int(config.min_num_of_paths),int(config.num_of_paths)+1):\n",
    "        for topology in config.list_of_topologies:\n",
    "            purification = Purification()\n",
    "            network = Network(config,purification,topology,False)\n",
    "            \n",
    "            #network.set_edge_fidelity(edge_fidelity_range)\n",
    "            # we get all the paths for all workloads\n",
    "            network.num_of_paths = num_paths\n",
    "            for gate_fidelity_value in config.two_qubit_gate_fidelity_set:\n",
    "                network.purification.two_qubit_gate_fidelity = gate_fidelity_value\n",
    "                for measurement_fidelity in config.measurement_fidelity_set:\n",
    "                    print(\"for p2 %s eta %s \"%(gate_fidelity_value,measurement_fidelity))\n",
    "                    network.purification.measurement_fidelity = measurement_fidelity\n",
    "                    network.set_nodes_q_value()\n",
    "                    for number_of_flows in network.number_of_flow_set:\n",
    "                        print(\"for flow size \",number_of_flows)\n",
    "                        network.number_of_flows = number_of_flows\n",
    "#                           for alpha_value in [0.0001,0.001,0.05,0.04,0.03,0.02,0.01,0.1,0.15,0.2,0.25,0.3,0.35,0.4,0.45,0.5]:\n",
    "                        for alpha_value in config.alpha_values:\n",
    "                            print(\"for alpha value \",alpha_value)\n",
    "                            network.alpha_value = alpha_value\n",
    "                            for min_rate in config.min_flow_rates:\n",
    "#                             for max_rate in config.max_flow_rates:\n",
    "                            #for max_rate in (10000,100,200):\n",
    "                                network.min_flow_rate = min_rate\n",
    "                                #for target_long_link in [40]:\n",
    "                                    #for repeater_placement_distance in [10]:\n",
    "                                        #network.target_long_link=target_long_link\n",
    "                                        #network.repeater_placement_distance = repeater_placement_distance\n",
    "                                        #if target_long_link>repeater_placement_distance:\n",
    "                                            #network.engineer_topology(network.topology_file,target_long_link,repeater_placement_distance)\n",
    "                                            #import pdb\n",
    "                                            #pdb.set_trace()\n",
    "                                network.load_topology()\n",
    "                                network.update_link_rates(alpha_value)\n",
    "                                for scheme in config.schemes:\n",
    "                                    print(\"for scheme %s flow size %s \"%(scheme,number_of_flows))\n",
    "                                    network.running_path_selection_scheme = scheme\n",
    "                                    network.set_flows_of_organizations()\n",
    "                                    print(\"workloads loaded!\")\n",
    "                                    #network.purification.set_each_wk_k_fidelity_threshold()\n",
    "                                    network.get_path_info()\n",
    "                                    print(\"path info extracted!\")\n",
    "                                    #for edge_elvel_F in [0.8,0.85,0.88,0.89,0.9,0.92,0.94,0.96,0.97,0.975,0.98,0.988,0.990,0.992,0.994,0.996,0.998,0.999,0.9999,0.99999,1.0]:\n",
    "#                                     network.purification.set_of_edge_level_Fth = []                \n",
    "#                                     network.purification.set_of_edge_level_Fth = [edge_elvel_F]\n",
    "#                                     print(\"network.purification.set_of_edge_level_Fth \",network.purification.set_of_edge_level_Fth)\n",
    "                                    if scheme in [\"EGR\",\"EGRSquare\",\"Hop\"]:\n",
    "                                        network.evaluate_shortest_path_routing(config,scheme)\n",
    "                                    elif scheme ==\"Genetic\":\n",
    "                                        network.evaluate_genetic_algorithm_for_path_selection(config)\n",
    "                                    elif scheme ==\"RL\":\n",
    "                                        network.evaluate_rl_for_path_selection(config)\n",
    "                                    else:\n",
    "                                        print(\"not valid scheme (%s): set schemes from EGR, EGRSquare,Hop, Genetic, or RL keywords\"%(scheme))"
   ]
  },
  {
   "cell_type": "code",
   "execution_count": 3,
   "id": "046ff7d5",
   "metadata": {},
   "outputs": [
    {
     "name": "stdout",
     "output_type": "stream",
     "text": [
      "path  1\n",
      "path \n"
     ]
    }
   ],
   "source": [
    "edges = \"31:30, 30:107, 107:13,13:14\"\n",
    "saved_edges = edges.split(\",\")\n",
    "saved_path_edges =[]\n",
    "for edge in saved_edges:\n",
    "    edge = edge.split(\":\")\n",
    "    saved_path_edges.append((int(edge[0]),int(edge[1])))\n",
    "set_of_paths = {0:[(1,2),(2,3),(3,4)],1:[(31,30),(30,107),(107,13),(13,14)]}\n",
    "for path_id,edges in set_of_paths.items():\n",
    "    if saved_path_edges==edges:\n",
    "        print(\"path \",path_id)\n",
    "print(\"path \")\n"
   ]
  },
  {
   "cell_type": "code",
   "execution_count": null,
   "id": "2fe03cec",
   "metadata": {},
   "outputs": [],
   "source": [
    "if __name__ == '__main__':\n",
    "    app.run(main)"
   ]
  }
 ],
 "metadata": {
  "kernelspec": {
   "display_name": "Python 3 (ipykernel)",
   "language": "python",
   "name": "python3"
  },
  "language_info": {
   "codemirror_mode": {
    "name": "ipython",
    "version": 3
   },
   "file_extension": ".py",
   "mimetype": "text/x-python",
   "name": "python",
   "nbconvert_exporter": "python",
   "pygments_lexer": "ipython3",
   "version": "3.9.12"
  }
 },
 "nbformat": 4,
 "nbformat_minor": 5
}
