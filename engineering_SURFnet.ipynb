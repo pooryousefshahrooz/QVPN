{
 "cells": [
  {
   "cell_type": "code",
   "execution_count": null,
   "id": "7577c70a",
   "metadata": {},
   "outputs": [],
   "source": [
    "from __future__ import print_function\n",
    "\n",
    "import numpy as np\n",
    "import random\n",
    "import multiprocessing as mp\n",
    "from absl import app\n",
    "from absl import flags\n",
    "import ast\n",
    "from network import Network\n",
    "from config import get_config\n",
    "from solver import Solver\n",
    "from purification import Purification\n",
    "import time\n",
    "import os\n",
    "FLAGS = flags.FLAGS"
   ]
  },
  {
   "cell_type": "code",
   "execution_count": null,
   "id": "c46d41e2",
   "metadata": {},
   "outputs": [],
   "source": [
    "def main(_):\n",
    "    config = get_config(FLAGS) or FLAGS\n",
    "    for num_paths in range(int(config.min_num_of_paths),int(config.num_of_paths)+1):\n",
    "        for edge_capacity_bound in config.edge_capacity_bounds:\n",
    "            for topology in config.list_of_topologies:\n",
    "                purification = Purification()\n",
    "                network = Network(config,purification,topology,edge_capacity_bound,False)\n",
    "                print(\"config.purification_schemes\",config.purification_schemes)\n",
    "                #network.set_edge_fidelity(edge_fidelity_range)\n",
    "                # we get all the paths for all workloads\n",
    "                network.num_of_paths = num_paths\n",
    "                for gate_fidelity_value in config.two_qubit_gate_fidelity_set:\n",
    "                    network.purification.two_qubit_gate_fidelity = gate_fidelity_value\n",
    "                    for measurement_fidelity in config.measurement_fidelity_set:\n",
    "                        network.purification.measurement_fidelity = measurement_fidelity\n",
    "                        network.set_nodes_q_value()\n",
    "                        for number_of_flows in network.number_of_flow_set:\n",
    "                            network.number_of_flows = number_of_flows\n",
    "#                           for alpha_value in [0.0001,0.001,0.05,0.04,0.03,0.02,0.01,0.1,0.15,0.2,0.25,0.3,0.35,0.4,0.45,0.5]:\n",
    "                            for alpha_value in config.alpha_values:\n",
    "                                network.alpha_value = alpha_value\n",
    "                                for min_rate in [2,4,6,8]:\n",
    "                                    network.min_flow_rate = min_rate\n",
    "                                    for target_long_link in [30,40,10,20,50,60]:\n",
    "                                    \n",
    "                                        for repeater_placement_distance in [5,10,15,20]:\n",
    "                                            network.target_long_link=target_long_link\n",
    "                                            network.repeater_placement_distance = repeater_placement_distance\n",
    "                                            if target_long_link>repeater_placement_distance:\n",
    "                                                network.engineer_topology(network.topology_file,target_long_link,repeater_placement_distance)\n",
    "                                                network.load_topology()\n",
    "                                                network.update_link_rates(alpha_value)\n",
    "                                                for scheme in config.schemes:\n",
    "                                                    print(\"for scheme %s flow size %s \"%(scheme,number_of_flows))\n",
    "                                                    network.running_path_selection_scheme = scheme\n",
    "                                                    network.set_flows_of_organizations()\n",
    "                                                    print(\"workloads loaded!\")\n",
    "                                                    #network.purification.set_each_wk_k_fidelity_threshold()\n",
    "                                                    network.get_path_info()\n",
    "                                                    print(\"path info extracted!\")\n",
    "                                                    if scheme in [\"EGR\",\"EGRSquare\",\"Hop\"]:\n",
    "                                                        network.evaluate_shortest_path_routing(config,scheme)\n",
    "                                                    elif scheme ==\"Genetic\":\n",
    "                                                        network.evaluate_genetic_algorithm_for_path_selection(config)\n",
    "                                                    elif scheme ==\"RL\":\n",
    "                                                        network.evaluate_rl_for_path_selection(config)\n",
    "                                                    else:\n",
    "                                                        print(\"not valid scheme (%s): set schemes from EGR, EGRSquare,Hop, Genetic, or RL keywords\"%(scheme))"
   ]
  },
  {
   "cell_type": "code",
   "execution_count": null,
   "id": "046ff7d5",
   "metadata": {},
   "outputs": [],
   "source": []
  },
  {
   "cell_type": "code",
   "execution_count": null,
   "id": "2fe03cec",
   "metadata": {},
   "outputs": [],
   "source": [
    "if __name__ == '__main__':\n",
    "    app.run(main)"
   ]
  }
 ],
 "metadata": {
  "kernelspec": {
   "display_name": "Python 3 (ipykernel)",
   "language": "python",
   "name": "python3"
  },
  "language_info": {
   "codemirror_mode": {
    "name": "ipython",
    "version": 3
   },
   "file_extension": ".py",
   "mimetype": "text/x-python",
   "name": "python",
   "nbconvert_exporter": "python",
   "pygments_lexer": "ipython3",
   "version": "3.9.12"
  }
 },
 "nbformat": 4,
 "nbformat_minor": 5
}
